{
  "nbformat": 4,
  "nbformat_minor": 0,
  "metadata": {
    "colab": {
      "provenance": [],
      "gpuType": "T4"
    },
    "kernelspec": {
      "name": "python3",
      "display_name": "Python 3"
    },
    "language_info": {
      "name": "python"
    },
    "accelerator": "GPU"
  },
  "cells": [
    {
      "cell_type": "code",
      "source": [
        "TITLE = input(\"Enter the name of the crystal: \")\n",
        "\n",
        "print(\"\\n\",TITLE)"
      ],
      "metadata": {
        "colab": {
          "base_uri": "https://localhost:8080/"
        },
        "id": "gR0yDAY0d7U3",
        "outputId": "229a87b9-b9c8-4015-8016-57c2a3510d0d"
      },
      "execution_count": 1,
      "outputs": [
        {
          "output_type": "stream",
          "name": "stdout",
          "text": [
            "Enter the name of the crystal: orthorhombic\n",
            "\n",
            " orthorhombic\n"
          ]
        }
      ]
    },
    {
      "cell_type": "code",
      "source": [
        "import numpy as np\n",
        "\n",
        "a= float(input(\"Enter the value for a: \"))\n",
        "b= float(input(\"Enter the value for b: \"))\n",
        "c= float(input(\"Enter the value for c: \"))\n",
        "alpha = float(input(\"Enter the value for alpha: \"))\n",
        "beta = float(input(\"Enter the value for beta: \"))\n",
        "gamma = float(input(\"Enter the value for gamma: \"))\n",
        "rho = float(input(\"Enter the density: \"))\n",
        "\n",
        "V = []\n",
        "V.append(0)\n",
        "for i in range(1,13):\n",
        "    v = float(input(f\"Enter the value for V[{i}]: \"))\n",
        "    V.append(v)\n",
        "\n",
        "\n",
        "c_ab = a/(a**2 + b**2)**0.5\n",
        "s_ab = b/(a**2 + b**2)**0.5\n",
        "c_bc = b/(b**2 + c**2)**0.5\n",
        "s_bc = c/(b**2 + c**2)**0.5\n",
        "c_ca = c/(c**2 + a**2)**0.5\n",
        "s_ca = a/(c**2 + a**2)**0.5\n",
        "\n",
        "print(\"Velocity values: \", V)\n",
        "\n"
      ],
      "metadata": {
        "id": "-XFDzVmlN-Na",
        "colab": {
          "base_uri": "https://localhost:8080/"
        },
        "outputId": "cd72299f-2146-4a46-fe96-9e50128c282a"
      },
      "execution_count": 2,
      "outputs": [
        {
          "output_type": "stream",
          "name": "stdout",
          "text": [
            "Enter the value for a: 11.875\n",
            "Enter the value for b: 14.266\n",
            "Enter the value for c: 6.209\n",
            "Enter the value for alpha: 90\n",
            "Enter the value for beta: 90\n",
            "Enter the value for gamma: 90\n",
            "Enter the density: 1768.9\n",
            "Enter the value for V[1]: 4573.22\n",
            "Enter the value for V[2]: 3932.94\n",
            "Enter the value for V[3]: 5818.01\n",
            "Enter the value for V[4]: 2318.66\n",
            "Enter the value for V[5]: 2308.16\n",
            "Enter the value for V[6]: 1280.46\n",
            "Enter the value for V[7]: 1283.52\n",
            "Enter the value for V[8]: 2265.02\n",
            "Enter the value for V[9]: 2258.37\n",
            "Enter the value for V[10]: 4502.79\n",
            "Enter the value for V[11]: 4362.38\n",
            "Enter the value for V[12]: 4781.98\n",
            "Velocity values:  [0, 4573.22, 3932.94, 5818.01, 2318.66, 2308.16, 1280.46, 1283.52, 2265.02, 2258.37, 4502.79, 4362.38, 4781.98]\n"
          ]
        }
      ]
    },
    {
      "cell_type": "code",
      "source": [
        "\n",
        "# Calculate stiffness constants\n",
        "C11 = rho * (V[1] ** 2)\n",
        "C22 = rho * (V[2] ** 2)\n",
        "C33 = rho * (V[3] ** 2)\n",
        "C441 = rho* (V[4]**2)\n",
        "C442 = rho* (V[5]**2)\n",
        "C551 = rho* (V[6]**2)\n",
        "C552 = rho* (V[7]**2)\n",
        "C661 = rho* (V[8]**2)\n",
        "C662 = rho* (V[9]**2)\n",
        "\n",
        "C66 = C661\n",
        "C55 = C551\n",
        "C44 = C441\n",
        "\n",
        "f_ab = np.sqrt(np.abs((c_ab**2 * C11 + s_ab**2 * C66 - rho * V[10]**2) * (c_ab**2 * C66 + s_ab**2 * C22 - rho * V[10]**2) / (c_ab**2 * s_ab**2))) - C66\n",
        "\n",
        "f_bc = np.sqrt(np.abs((c_bc**2 * C22 + s_bc**2 * C44 - rho * V[11]**2) * (c_bc**2 * C44 + s_bc**2 * C33 - rho * V[11]**2) / (c_bc**2 * s_bc**2))) - C44\n",
        "\n",
        "f_ac = np.sqrt(np.abs((c_ca**2 * C55 + s_ca**2 * C11 - rho * V[12]**2) * (c_ca**2 * C33 + s_ca**2 * C55 - rho * V[12]**2) / (c_ca**2 * s_ca**2))) - C55\n",
        "\n",
        "C12 = f_ab\n",
        "C23 = f_bc\n",
        "C13 = f_ac\n"
      ],
      "metadata": {
        "id": "lZstaHxt6Aid"
      },
      "execution_count": 3,
      "outputs": []
    },
    {
      "cell_type": "code",
      "source": [
        "print(\"Elastic Stiffness Constants:\")\n",
        "print(f\"C11: {C11}, C22: {C22}, C33: {C33}, C44: {C44}, C55: {C55}, C66: {C66}, C12: {C12}, C13: {C13}, C23: {C23}\")"
      ],
      "metadata": {
        "colab": {
          "base_uri": "https://localhost:8080/"
        },
        "id": "Q37oPwdU55zE",
        "outputId": "6d8c0ea5-f75d-4009-cff1-fbe952a6d744"
      },
      "execution_count": 4,
      "outputs": [
        {
          "output_type": "stream",
          "name": "stdout",
          "text": [
            "Elastic Stiffness Constants:\n",
            "C11: 36995378092.78276, C22: 27361375348.42404, C33: 59875921272.980896, C44: 9509932223.59684, C55: 2900249190.9392405, C66: 9075015265.54756, C12: 22797387991.262527, C13: 37323581420.25298, C23: 23682233696.30104\n"
          ]
        }
      ]
    },
    {
      "cell_type": "code",
      "source": [
        "# Compliance constants calculations\n",
        "det_sigma = np.linalg.det(np.array([[C11, C12, C13], [C12, C22, C23], [C13, C23, C33]]))\n",
        "\n",
        "S11 = np.linalg.det(np.array([[C22, C23], [C23, C33]]))/det_sigma\n",
        "S22 = np.linalg.det(np.array([[C11, C13], [C13, C33]]))/det_sigma\n",
        "S33 = np.linalg.det(np.array([[C11, C12], [C12, C22]]))/det_sigma\n",
        "S13 = np.linalg.det(np.array([[C12, C13], [C22, C23]]))/det_sigma\n",
        "S23 = np.linalg.det(np.array([[C13, C23], [C11, C12]]))/det_sigma\n",
        "S12 = np.linalg.det(np.array([[C13, C33], [C12, C23]]))/det_sigma\n",
        "\n",
        "\n",
        "S44 = 1 / C44\n",
        "S55 = 1 / C55\n",
        "S66 = 1 / C66\n",
        "\n",
        "# Display results\n",
        "print(\"Elastic Stiffness Constants:\")\n",
        "print(f\"C11: {C11}, C22: {C22}, C33: {C33}, C44: {C44}, C55: {C55}, C66: {C66}, C12: {C12}, C13: {C13}, C23: {C23}\")\n",
        "\n",
        "print(\"\\nElastic Compliance Constants:\")\n",
        "print(f\"S11:\\n{S11}\")\n",
        "print(f\"S22:\\n{S22}\")\n",
        "print(f\"S33:\\n{S33}\")\n",
        "print(f\"S13: {S13}\")\n",
        "print(f\"S23: {S23}\")\n",
        "print(f\"S12: {S12}\")\n",
        "print(f\"Determinant of Sigma: {det_sigma}\")\n",
        "print(f\"S44: {S44}, S55: {S55}, S66: {S66}\")\n",
        "\n",
        "S21 = S12\n",
        "S31 = S13\n",
        "S32 = S23\n",
        "# Linear compressibility\n",
        "B1 = S11 + S12 + S13\n",
        "B2 = S21 + S22 + S23\n",
        "B3 = S31 + S32 + S33\n",
        "B = B1 + B2 + B3\n",
        "\n",
        "K = 1/B\n",
        "\n",
        "print(f\"Volume compressibility: {B}\")\n",
        "print(f\"Bulks Modulus: {K}\")\n",
        "\n",
        "print(B1, B2, B3)\n",
        "\n"
      ],
      "metadata": {
        "colab": {
          "base_uri": "https://localhost:8080/"
        },
        "id": "xqs-a3svbtRD",
        "outputId": "6101a3e4-50d7-4634-aef3-9d1907b1aa71"
      },
      "execution_count": 5,
      "outputs": [
        {
          "output_type": "stream",
          "name": "stdout",
          "text": [
            "Elastic Stiffness Constants:\n",
            "C11: 36995378092.78276, C22: 27361375348.42404, C33: 59875921272.980896, C44: 9509932223.59684, C55: 2900249190.9392405, C66: 9075015265.54756, C12: 22797387991.262527, C13: 37323581420.25298, C23: 23682233696.30104\n",
            "\n",
            "Elastic Compliance Constants:\n",
            "S11:\n",
            "9.860125026077399e-11\n",
            "S22:\n",
            "7.523242283249248e-11\n",
            "S33:\n",
            "4.507301031139662e-11\n",
            "S13: -4.404877380663765e-11\n",
            "S23: -2.311016013478362e-12\n",
            "S12: -4.4028400910173216e-11\n",
            "Determinant of Sigma: 1.092723835232276e+31\n",
            "S44: 1.051532204949596e-10, S55: 3.44797958438927e-10, S66: 1.1019265210455411e-10\n",
            "Volume compressibility: 3.8130301944084634e-11\n",
            "Bulks Modulus: 26225861034.786156\n",
            "1.0524075543963121e-11 2.88930059088409e-11 -1.28677950871939e-12\n"
          ]
        }
      ]
    },
    {
      "cell_type": "code",
      "source": [
        "# Calculation of poisson's ratio\n",
        "nu_12 = -S12/S22\n",
        "nu_21 = -S21/S11\n",
        "nu_13 = -S13/S33\n",
        "nu_31 = -S31/S11\n",
        "nu_23 = -S23/S33\n",
        "nu_32 = -S32/S22\n",
        "\n",
        "print(f\"Poisson's Ratio:\")\n",
        "print(\"nu_12:\", nu_12)\n",
        "print(\"nu_21:\", nu_21)\n",
        "print(\"nu_13:\", nu_13)\n",
        "print(\"nu_31:\", nu_31)\n",
        "print(\"nu_23:\", nu_23)\n",
        "print(\"nu_32:\", nu_32)"
      ],
      "metadata": {
        "colab": {
          "base_uri": "https://localhost:8080/"
        },
        "id": "VJUuFN59cIYW",
        "outputId": "8c166da2-12d2-40f3-d218-f3b239c3579f"
      },
      "execution_count": 6,
      "outputs": [
        {
          "output_type": "stream",
          "name": "stdout",
          "text": [
            "Poisson's Ratio:\n",
            "nu_12: 0.5852317292532759\n",
            "nu_21: 0.4465298441320962\n",
            "nu_13: 0.977276057275012\n",
            "nu_31: 0.44673646318013616\n",
            "nu_23: 0.051272723909767934\n",
            "nu_32: 0.030718351562648953\n"
          ]
        }
      ]
    },
    {
      "cell_type": "code",
      "source": [
        "n1_ab = c_ab\n",
        "n2_ab = s_ab\n",
        "n2_bc = c_bc\n",
        "n3_bc = s_bc\n",
        "n3_ca = c_ca\n",
        "n1_ca = s_ca\n"
      ],
      "metadata": {
        "id": "NPQqgcIrjPqV"
      },
      "execution_count": 7,
      "outputs": []
    },
    {
      "cell_type": "code",
      "source": [
        "# Calculation of Young's modulus\n",
        "\n",
        "E100 = 1/S11\n",
        "E010 = 1/S22\n",
        "E001 = 1/S33\n",
        "E110 = 1/((n1_ab**4)*S11 + 2*(n1_ab**2)*(n2_ab**2)*S12 + (n2_ab**4)*S22 + (n1_ab**2)*(n2_ab**2)*S66)\n",
        "E101 = 1/((n1_ca**4)*S11 + 2*(n1_ca**2)*(n3_ca**2)*S13 + (n3_ca**4)*S33 + (n1_ca**2)*(n3_ca**2)*S55)\n",
        "E011 = 1/((n2_bc**4)*S11 + 2*(n2_bc**2)*(n3_bc**2)*S23 + (n3_bc**4)*S33 + (n2_bc**2)*(n3_bc**2)*S44)\n",
        "\n",
        "print(f\"Young's Modulus:\")\n",
        "print(f\"E100: {E100}\")\n",
        "print(f\"E010: {E010}\")\n",
        "print(f\"E001: {E001}\")\n",
        "print(f\"E110: {E110}\")\n",
        "print(f\"E101: {E101}\")\n",
        "print(f\"E011: {E011}\")\n",
        "\n"
      ],
      "metadata": {
        "colab": {
          "base_uri": "https://localhost:8080/"
        },
        "id": "1sYomoItcwHG",
        "outputId": "a7841489-8932-4f0d-d392-bd9424260305"
      },
      "execution_count": 8,
      "outputs": [
        {
          "output_type": "stream",
          "name": "stdout",
          "text": [
            "Young's Modulus:\n",
            "E100: 10141859229.52566\n",
            "E010: 13292141371.367683\n",
            "E001: 22186226149.336025\n",
            "E110: 20781035912.67112\n",
            "E101: 9419273411.987555\n",
            "E011: 11862423842.793356\n"
          ]
        }
      ]
    },
    {
      "cell_type": "code",
      "source": [
        "!pip install reportlab\n",
        "\n",
        "from reportlab.lib.pagesizes import letter\n",
        "from reportlab.platypus import SimpleDocTemplate, Table, TableStyle, Paragraph, Spacer\n",
        "from reportlab.lib import colors\n",
        "from reportlab.lib.styles import getSampleStyleSheet\n",
        "from google.colab import files\n",
        "\n",
        "# Setup PDF document\n",
        "pdf_filename = 'elastic_properties_tables.pdf'\n",
        "doc = SimpleDocTemplate(pdf_filename, pagesize=letter)\n",
        "styles = getSampleStyleSheet()\n",
        "story = []\n",
        "\n",
        "# Function to create a styled table\n",
        "def create_table(title, data, col_widths=None):\n",
        "    story.append(Paragraph(f\"<b>{title}</b>\", styles['Heading3']))\n",
        "    table = Table(data, colWidths=col_widths)\n",
        "    table.setStyle(TableStyle([\n",
        "        ('BACKGROUND', (0, 0), (-1, 0), colors.HexColor('#d3d3d3')),\n",
        "        ('GRID', (0, 0), (-1, -1), 0.5, colors.black),\n",
        "        ('ALIGN', (1, 0), (-1, -1), 'RIGHT'),\n",
        "        ('VALIGN', (0, 0), (-1, -1), 'MIDDLE'),\n",
        "        ('FONTNAME', (0, 0), (-1, 0), 'Helvetica-Bold')\n",
        "    ]))\n",
        "    story.append(table)\n",
        "    story.append(Spacer(1, 12))\n",
        "\n",
        "# Title page\n",
        "\n",
        "story.append(Paragraph(f\"<b>Determination of elastic parameters of orthorhombic crystals using the sound velocity measurements.</b>\", styles['Title']))\n",
        "story.append(Paragraph(f\"<b>Crystal Name: {TITLE}</b>\", styles['Title']))\n",
        "\n",
        "story.append(Spacer(1, 24))\n",
        "\n",
        "# 1. Input Parameters\n",
        "create_table(\"Input Parameters\", [\n",
        "    [\"Parameter\", \"Value\"],\n",
        "    [\"Density (ρ)\", f\"{rho} kg/m³\"],\n",
        "    [\"a\", f\"{a} Å\"],\n",
        "    [\"b\", f\"{b} Å\"],\n",
        "    [\"c\", f\"{c} Å\"],\n",
        "    [\"alpha\", f\"{alpha}°\"],\n",
        "    [\"beta\", f\"{beta}°\"],\n",
        "    [\"gamma\", f\"{gamma}°\"]\n",
        "])\n",
        "\n",
        "# 2. Velocities (V1 to V12)\n",
        "V_data = [[\"Direction\", \"Velocity (m/s)\"]]\n",
        "for i in range(1,13):\n",
        "    V_data.append([f\"V{i+1}\", f\"{V[i]:.2f}\"])\n",
        "create_table(\"Measured Velocities\", V_data)\n",
        "\n",
        "# 3. Elastic Stiffness Constants (C)\n",
        "create_table(\"Elastic Stiffness Constants (C in GPa)\", [\n",
        "    [\"Component\", \"Value (GPa)\"],\n",
        "    [\"C11\", f\"{C11 / 1e9:.4f}\"],\n",
        "    [\"C22\", f\"{C22 / 1e9:.4f}\"],\n",
        "    [\"C33\", f\"{C33 / 1e9:.4f}\"],\n",
        "    [\"C44\", f\"{C44 / 1e9:.4f}\"],\n",
        "    [\"C55\", f\"{C55 / 1e9:.4f}\"],\n",
        "    [\"C66\", f\"{C66 / 1e9:.4f}\"],\n",
        "    [\"C12\", f\"{C12 / 1e9:.4f}\"],\n",
        "    [\"C13\", f\"{C13 / 1e9:.4f}\"],\n",
        "    [\"C23\", f\"{C23 / 1e9:.4f}\"]\n",
        "])\n",
        "\n",
        "# 4. Elastic Compliance Constants (S) — formatted as ×10^-10\n",
        "create_table(\"Elastic Compliance Constants (S in × 10^-10 m²/N)\", [\n",
        "    [\"Component\", \"Value\"],\n",
        "    [\"S11\", f\"{S11 / 1e-10:.4f}\"],\n",
        "    [\"S22\", f\"{S22 / 1e-10:.4f}\"],\n",
        "    [\"S33\", f\"{S33 / 1e-10:.4f}\"],\n",
        "    [\"S12\", f\"{S12 / 1e-10:.4f}\"],\n",
        "    [\"S13\", f\"{S13 / 1e-10:.4f}\"],\n",
        "    [\"S23\", f\"{S23 / 1e-10:.4f}\"],\n",
        "    [\"S44\", f\"{S44 / 1e-10:.4f}\"],\n",
        "    [\"S55\", f\"{S55 / 1e-10:.4f}\"],\n",
        "    [\"S66\", f\"{S66 / 1e-10:.4f}\"]\n",
        "])\n",
        "\n",
        "# 5. Compressibility and Bulk Modulus\n",
        "create_table(\"Compressibility and Bulk Modulus\", [\n",
        "    [\"Parameter\", \"Value\"],\n",
        "    [\"B1\", f\"{B1 / 1e-12:.4f} × 10^-12 m²/N\"],\n",
        "    [\"B2\", f\"{B2 / 1e-12:.4f} × 10^-12 m²/N\"],\n",
        "    [\"B3\", f\"{B3 / 1e-12:.4f} × 10^-12 m²/N\"],\n",
        "    [\"Volume Compressibility (β)\", f\"{B / 1e-12:.4f} × 10^-12 m²/N\"],\n",
        "    [\"Bulk Modulus (K)\", f\"{K / 1e9:.4f} GPa\"]\n",
        "])\n",
        "\n",
        "# 6. Poisson's Ratios\n",
        "create_table(\"Poisson's Ratios (unitless)\", [\n",
        "    [\"Direction\", \"Value\"],\n",
        "    [\"ν12\", f\"{nu_12:.4f}\"],\n",
        "    [\"ν21\", f\"{nu_21:.4f}\"],\n",
        "    [\"ν13\", f\"{nu_13:.4f}\"],\n",
        "    [\"ν31\", f\"{nu_31:.4f}\"],\n",
        "    [\"ν23\", f\"{nu_23:.4f}\"],\n",
        "    [\"ν32\", f\"{nu_32:.4f}\"]\n",
        "])\n",
        "\n",
        "# 7. Young’s Modulus\n",
        "create_table(\"Young’s Modulus (E in GPa)\", [\n",
        "    [\"Direction\", \"Value\"],\n",
        "    [\"E100\", f\"{E100 / 1e9:.4f}\"],\n",
        "    [\"E010\", f\"{E010 / 1e9:.4f}\"],\n",
        "    [\"E001\", f\"{E001 / 1e9:.4f}\"],\n",
        "    [\"E110\", f\"{E110 / 1e9:.4f}\"],\n",
        "    [\"E101\", f\"{E101 / 1e9:.4f}\"],\n",
        "    [\"E011\", f\"{E011 / 1e9:.4f}\"]\n",
        "])\n",
        "\n",
        "# Generate the PDF\n",
        "doc.build(story)\n",
        "\n",
        "# Trigger download in Colab\n",
        "files.download(pdf_filename)\n"
      ],
      "metadata": {
        "colab": {
          "base_uri": "https://localhost:8080/",
          "height": 69
        },
        "id": "r1xHjD2petE0",
        "outputId": "874adeef-ca55-4dd8-945d-26d7713ea834"
      },
      "execution_count": 10,
      "outputs": [
        {
          "output_type": "stream",
          "name": "stdout",
          "text": [
            "Requirement already satisfied: reportlab in /usr/local/lib/python3.11/dist-packages (4.4.2)\n",
            "Requirement already satisfied: pillow>=9.0.0 in /usr/local/lib/python3.11/dist-packages (from reportlab) (11.2.1)\n",
            "Requirement already satisfied: charset-normalizer in /usr/local/lib/python3.11/dist-packages (from reportlab) (3.4.2)\n"
          ]
        },
        {
          "output_type": "display_data",
          "data": {
            "text/plain": [
              "<IPython.core.display.Javascript object>"
            ],
            "application/javascript": [
              "\n",
              "    async function download(id, filename, size) {\n",
              "      if (!google.colab.kernel.accessAllowed) {\n",
              "        return;\n",
              "      }\n",
              "      const div = document.createElement('div');\n",
              "      const label = document.createElement('label');\n",
              "      label.textContent = `Downloading \"${filename}\": `;\n",
              "      div.appendChild(label);\n",
              "      const progress = document.createElement('progress');\n",
              "      progress.max = size;\n",
              "      div.appendChild(progress);\n",
              "      document.body.appendChild(div);\n",
              "\n",
              "      const buffers = [];\n",
              "      let downloaded = 0;\n",
              "\n",
              "      const channel = await google.colab.kernel.comms.open(id);\n",
              "      // Send a message to notify the kernel that we're ready.\n",
              "      channel.send({})\n",
              "\n",
              "      for await (const message of channel.messages) {\n",
              "        // Send a message to notify the kernel that we're ready.\n",
              "        channel.send({})\n",
              "        if (message.buffers) {\n",
              "          for (const buffer of message.buffers) {\n",
              "            buffers.push(buffer);\n",
              "            downloaded += buffer.byteLength;\n",
              "            progress.value = downloaded;\n",
              "          }\n",
              "        }\n",
              "      }\n",
              "      const blob = new Blob(buffers, {type: 'application/binary'});\n",
              "      const a = document.createElement('a');\n",
              "      a.href = window.URL.createObjectURL(blob);\n",
              "      a.download = filename;\n",
              "      div.appendChild(a);\n",
              "      a.click();\n",
              "      div.remove();\n",
              "    }\n",
              "  "
            ]
          },
          "metadata": {}
        },
        {
          "output_type": "display_data",
          "data": {
            "text/plain": [
              "<IPython.core.display.Javascript object>"
            ],
            "application/javascript": [
              "download(\"download_806b17e6-5c0b-4f04-9020-3dc1b727dded\", \"elastic_properties_tables.pdf\", 5563)"
            ]
          },
          "metadata": {}
        }
      ]
    }
  ]
}